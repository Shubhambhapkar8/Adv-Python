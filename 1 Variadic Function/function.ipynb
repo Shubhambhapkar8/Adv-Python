{
 "cells": [
  {
   "cell_type": "markdown",
   "metadata": {},
   "source": [
    "# Variadic Finctions In Python"
   ]
  },
  {
   "cell_type": "code",
   "execution_count": 1,
   "metadata": {},
   "outputs": [],
   "source": [
    "def add(a: int|float, b: int|float) -> int|float:\n",
    "    c = a + b\n",
    "    return c"
   ]
  },
  {
   "cell_type": "code",
   "execution_count": 2,
   "metadata": {},
   "outputs": [
    {
     "data": {
      "text/plain": [
       "7"
      ]
     },
     "execution_count": 2,
     "metadata": {},
     "output_type": "execute_result"
    }
   ],
   "source": [
    "# Arguments input\n",
    "add(3, 4)"
   ]
  },
  {
   "cell_type": "code",
   "execution_count": 3,
   "metadata": {},
   "outputs": [
    {
     "data": {
      "text/plain": [
       "6.5"
      ]
     },
     "execution_count": 3,
     "metadata": {},
     "output_type": "execute_result"
    }
   ],
   "source": [
    "add(4.5, 2)"
   ]
  },
  {
   "cell_type": "code",
   "execution_count": 4,
   "metadata": {},
   "outputs": [
    {
     "data": {
      "text/plain": [
       "34"
      ]
     },
     "execution_count": 4,
     "metadata": {},
     "output_type": "execute_result"
    }
   ],
   "source": [
    "# Keyword arguments in python\n",
    "add(a=23, b=11)"
   ]
  },
  {
   "cell_type": "code",
   "execution_count": 5,
   "metadata": {},
   "outputs": [
    {
     "data": {
      "text/plain": [
       "23.8"
      ]
     },
     "execution_count": 5,
     "metadata": {},
     "output_type": "execute_result"
    }
   ],
   "source": [
    "add(a=11.5, b=12.3)"
   ]
  },
  {
   "cell_type": "markdown",
   "metadata": {},
   "source": [
    "# Create args inside function\n",
    "*args - this will act like a tuple in python"
   ]
  },
  {
   "cell_type": "code",
   "execution_count": 6,
   "metadata": {},
   "outputs": [],
   "source": [
    "def function1(*args):\n",
    "    print(args)\n",
    "    print(type(args))\n",
    "    for i in args:\n",
    "        print(i)"
   ]
  },
  {
   "cell_type": "code",
   "execution_count": 7,
   "metadata": {},
   "outputs": [
    {
     "name": "stdout",
     "output_type": "stream",
     "text": [
      "(3, 4)\n",
      "<class 'tuple'>\n",
      "3\n",
      "4\n"
     ]
    }
   ],
   "source": [
    "function1(3, 4)"
   ]
  },
  {
   "cell_type": "code",
   "execution_count": 8,
   "metadata": {},
   "outputs": [
    {
     "name": "stdout",
     "output_type": "stream",
     "text": [
      "('Shubham', 28, 'Data Analyst', 'B+ve')\n",
      "<class 'tuple'>\n",
      "Shubham\n",
      "28\n",
      "Data Analyst\n",
      "B+ve\n"
     ]
    }
   ],
   "source": [
    "function1(\"Shubham\", 28, \"Data Analyst\", \"B+ve\")"
   ]
  },
  {
   "cell_type": "code",
   "execution_count": 9,
   "metadata": {},
   "outputs": [
    {
     "data": {
      "text/plain": [
       "list"
      ]
     },
     "execution_count": 9,
     "metadata": {},
     "output_type": "execute_result"
    }
   ],
   "source": [
    "a = [\"Example\", True, False, 12.5, 11.2, 13]\n",
    "type(a)"
   ]
  },
  {
   "cell_type": "markdown",
   "metadata": {},
   "source": [
    "### Upack a list using *list_name"
   ]
  },
  {
   "cell_type": "code",
   "execution_count": 10,
   "metadata": {},
   "outputs": [
    {
     "name": "stdout",
     "output_type": "stream",
     "text": [
      "('Example', True, False, 12.5, 11.2, 13)\n",
      "<class 'tuple'>\n",
      "Example\n",
      "True\n",
      "False\n",
      "12.5\n",
      "11.2\n",
      "13\n"
     ]
    }
   ],
   "source": [
    "function1(*a)"
   ]
  },
  {
   "cell_type": "markdown",
   "metadata": {},
   "source": [
    "### Given the cart products of a customer perform total billing of products"
   ]
  },
  {
   "cell_type": "code",
   "execution_count": 14,
   "metadata": {},
   "outputs": [],
   "source": [
    "c1 = [\n",
    "    (\"Laptop\", 75000, 1),\n",
    "    (\"Mouse\", 2500, 2),\n",
    "    (\"Keyboard\", 1000, 1)\n",
    "]"
   ]
  },
  {
   "cell_type": "code",
   "execution_count": 12,
   "metadata": {},
   "outputs": [],
   "source": [
    "def billing(*args):\n",
    "    # Initalize total bill to 0\n",
    "    total_bill = 0\n",
    "\n",
    "    # Apply for loop on args\n",
    "    for name, price, qty in args:\n",
    "        subtotal = price*qty\n",
    "        total_bill = total_bill + subtotal\n",
    "        print(f\"Name : {name}, Price : {price} INR, Quantity : {qty}\")\n",
    "        print(f\"Subtotal : {subtotal} INR\")\n",
    "        print(\"\\n=======================================================\\n\")\n",
    "    \n",
    "    # Print and return total bill\n",
    "    print(f\"Total Bill : {total_bill:.2f} INR\")\n",
    "    return total_bill"
   ]
  },
  {
   "cell_type": "code",
   "execution_count": 15,
   "metadata": {},
   "outputs": [
    {
     "data": {
      "text/plain": [
       "[('Laptop', 75000, 1), ('Mouse', 2500, 2), ('Keyboard', 1000, 1)]"
      ]
     },
     "execution_count": 15,
     "metadata": {},
     "output_type": "execute_result"
    }
   ],
   "source": [
    "c1"
   ]
  },
  {
   "cell_type": "code",
   "execution_count": 16,
   "metadata": {},
   "outputs": [
    {
     "name": "stdout",
     "output_type": "stream",
     "text": [
      "Name : Laptop, Price : 75000 INR, Quantity : 1\n",
      "Subtotal : 75000 INR\n",
      "\n",
      "=======================================================\n",
      "\n",
      "Name : Mouse, Price : 2500 INR, Quantity : 2\n",
      "Subtotal : 5000 INR\n",
      "\n",
      "=======================================================\n",
      "\n",
      "Name : Keyboard, Price : 1000 INR, Quantity : 1\n",
      "Subtotal : 1000 INR\n",
      "\n",
      "=======================================================\n",
      "\n",
      "Total Bill : 81000.00 INR\n"
     ]
    }
   ],
   "source": [
    "t1 = billing(*c1)"
   ]
  },
  {
   "cell_type": "code",
   "execution_count": 17,
   "metadata": {},
   "outputs": [
    {
     "data": {
      "text/plain": [
       "81000"
      ]
     },
     "execution_count": 17,
     "metadata": {},
     "output_type": "execute_result"
    }
   ],
   "source": [
    "t1"
   ]
  },
  {
   "cell_type": "code",
   "execution_count": 19,
   "metadata": {},
   "outputs": [
    {
     "name": "stdout",
     "output_type": "stream",
     "text": [
      "Name : Mobile, Price : 40000 INR, Quantity : 2\n",
      "Subtotal : 80000 INR\n",
      "\n",
      "=======================================================\n",
      "\n",
      "Name : Screen Guard, Price : 800 INR, Quantity : 4\n",
      "Subtotal : 3200 INR\n",
      "\n",
      "=======================================================\n",
      "\n",
      "Name : Headphones, Price : 2000 INR, Quantity : 1\n",
      "Subtotal : 2000 INR\n",
      "\n",
      "=======================================================\n",
      "\n",
      "Name : Phone cover, Price : 600 INR, Quantity : 2\n",
      "Subtotal : 1200 INR\n",
      "\n",
      "=======================================================\n",
      "\n",
      "Total Bill : 86400.00 INR\n"
     ]
    }
   ],
   "source": [
    "t2 = billing(\n",
    "    (\"Mobile\", 40000, 2),\n",
    "    (\"Screen Guard\", 800, 4),\n",
    "    (\"Headphones\", 2000, 1),\n",
    "    (\"Phone cover\", 600, 2)\n",
    ")\n"
   ]
  },
  {
   "cell_type": "markdown",
   "metadata": {},
   "source": [
    "### Flexibility in keyword arguments\n",
    "**kwargs - These act like a dictionoary in python\n",
    "\n",
    "{ key1: value1, key2: value2, key3: value3 }"
   ]
  },
  {
   "cell_type": "code",
   "execution_count": 20,
   "metadata": {},
   "outputs": [],
   "source": [
    "def function2(**kwargs):\n",
    "    print(kwargs)\n",
    "    print(type(kwargs))\n",
    "    for key, value in kwargs.items():\n",
    "        print(f\"Key : {key}, Value : {value}\")"
   ]
  },
  {
   "cell_type": "code",
   "execution_count": 23,
   "metadata": {},
   "outputs": [
    {
     "name": "stdout",
     "output_type": "stream",
     "text": [
      "{'a': 1, 'b': 13, 'name': 'Shubham', 'married': False}\n",
      "<class 'dict'>\n",
      "Key : a, Value : 1\n",
      "Key : b, Value : 13\n",
      "Key : name, Value : Shubham\n",
      "Key : married, Value : False\n"
     ]
    }
   ],
   "source": [
    "function2(a=1, b=13, name=\"Shubham\", married=False)"
   ]
  },
  {
   "cell_type": "markdown",
   "metadata": {},
   "source": [
    "### Storing information about different users"
   ]
  },
  {
   "cell_type": "code",
   "execution_count": 24,
   "metadata": {},
   "outputs": [],
   "source": [
    "def create_user(**kwargs):\n",
    "    user = {\n",
    "        \"username\": None,\n",
    "        \"age\": None,\n",
    "        \"email\": None\n",
    "    }\n",
    "    user.update(kwargs)\n",
    "    return user"
   ]
  },
  {
   "cell_type": "code",
   "execution_count": 27,
   "metadata": {},
   "outputs": [],
   "source": [
    "u1 = create_user(\n",
    "    username = \"Rohan1\",\n",
    "    age = 23\n",
    ")"
   ]
  },
  {
   "cell_type": "code",
   "execution_count": 28,
   "metadata": {},
   "outputs": [
    {
     "data": {
      "text/plain": [
       "{'username': 'Rohan1', 'age': 23, 'email': None}"
      ]
     },
     "execution_count": 28,
     "metadata": {},
     "output_type": "execute_result"
    }
   ],
   "source": [
    "u1"
   ]
  },
  {
   "cell_type": "code",
   "execution_count": 35,
   "metadata": {},
   "outputs": [],
   "source": [
    "u2 = create_user(\n",
    "    username = \"rakesh3\",\n",
    "    age = 29,\n",
    "    email = \"rakesh@test.com\"\n",
    ")"
   ]
  },
  {
   "cell_type": "code",
   "execution_count": 36,
   "metadata": {},
   "outputs": [
    {
     "data": {
      "text/plain": [
       "{'username': 'rakesh3', 'age': 29, 'email': 'rakesh@test.com'}"
      ]
     },
     "execution_count": 36,
     "metadata": {},
     "output_type": "execute_result"
    }
   ],
   "source": [
    "u2"
   ]
  },
  {
   "cell_type": "code",
   "execution_count": 37,
   "metadata": {},
   "outputs": [],
   "source": [
    "u3 = create_user(\n",
    "    username = \"mahesh1\",\n",
    "    age= 25,\n",
    "    email = \"mahesh@gmail.com\",\n",
    "    blood_group = \"AB+ve\",\n",
    "    contact = 9984567145\n",
    ")"
   ]
  },
  {
   "cell_type": "code",
   "execution_count": 38,
   "metadata": {},
   "outputs": [
    {
     "data": {
      "text/plain": [
       "{'username': 'mahesh1',\n",
       " 'age': 25,\n",
       " 'email': 'mahesh@gmail.com',\n",
       " 'blood_group': 'AB+ve',\n",
       " 'contact': 9984567145}"
      ]
     },
     "execution_count": 38,
     "metadata": {},
     "output_type": "execute_result"
    }
   ],
   "source": [
    "u3"
   ]
  },
  {
   "cell_type": "code",
   "execution_count": null,
   "metadata": {},
   "outputs": [],
   "source": []
  }
 ],
 "metadata": {
  "kernelspec": {
   "display_name": "Python 3",
   "language": "python",
   "name": "python3"
  },
  "language_info": {
   "codemirror_mode": {
    "name": "ipython",
    "version": 3
   },
   "file_extension": ".py",
   "mimetype": "text/x-python",
   "name": "python",
   "nbconvert_exporter": "python",
   "pygments_lexer": "ipython3",
   "version": "3.13.2"
  }
 },
 "nbformat": 4,
 "nbformat_minor": 2
}
